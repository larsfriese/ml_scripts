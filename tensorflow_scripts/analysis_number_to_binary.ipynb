{
 "cells": [
  {
   "cell_type": "markdown",
   "source": [
    "## Analyzing the importance of features in a Neural Network\r\n",
    "\r\n",
    "How do we know if a feature is important for our prediction? And at which values does its importance for the end result increase?\r\n",
    "The idea is to let the model do a lot of predictions and see how they change when changing the input features.\r\n",
    "This code snippet will demonstrate the process:"
   ],
   "metadata": {}
  },
  {
   "cell_type": "code",
   "execution_count": 8,
   "source": [
    "import pandas as pd\r\n",
    "import numpy as np\r\n",
    "import tensorflow as tf\r\n",
    "from tensorflow import keras\r\n",
    "from tensorflow.keras import regularizers\r\n",
    "import matplotlib.pyplot as plt"
   ],
   "outputs": [],
   "metadata": {}
  },
  {
   "cell_type": "markdown",
   "source": [
    "Side Info: <br />\r\n",
    "Regulizers are used to keep the values of the neurons low. This is done so that the network doesnt get too dependend on\r\n",
    "single neurons. The regulizers basically sum up the values of each layer (and square them) and add them to the overall loss."
   ],
   "metadata": {}
  },
  {
   "cell_type": "code",
   "execution_count": 9,
   "source": [
    "# define data\r\n",
    "X = [[0, 9, 7, 6, 3], [7, 8, 1, 3, 2], [2, 3, 2, 2, 3], [3, 4, 10, 7, 1], [4, 8, 4, 3, 0], [3, 2, 4, 1, 7], [5, 0, 3, 8, 9], [9, 4, 0, 4, 3], [3, 4, 0, 2, 4], [3, 3, 1, 2, 4],\r\n",
    "[0, 4, 8, 4, 3], [2, 0, 1, 9, 2], [2, 7, 2, 0, 8], [1, 4, 2, 10, 1], [1, 6, 1, 2, 9], [8, 4, 9, 4, 3], [9, 2, 5, 9, 2], [2, 7, 2, 5, 0], [7, 6, 2, 10, 1], [1, 9, 0, 6, 0]]\r\n",
    "y = [1, 0, 0, 1, 0, 0, 1, 0, 0, 0, 0, 1, 0, 1, 0, 0, 1, 1, 1, 1]\r\n",
    "\r\n",
    "features = len(X[0])\r\n",
    "\r\n",
    "# split data into test and validation\r\n",
    "splt = 0.75\r\n",
    "\r\n",
    "X_train = X[:int(splt*len(X))]\r\n",
    "y_train = y[:int(splt*len(y))]\r\n",
    "\r\n",
    "X_val = X[int(splt*len(X)):]\r\n",
    "y_val = y[int(splt*len(y)):]"
   ],
   "outputs": [],
   "metadata": {}
  },
  {
   "cell_type": "markdown",
   "source": [
    "This snippet will make categorial data for the model to train on. A sample of the training data will be a list of 5 numbers, as you can see if the 4th number is bigger than 5, the label will be 1. The network should be able to detect that pattern. The goal later on will be to find out that the other columns are therefore irrelevant by analyzing the importance of each of the 5 features (numbers)."
   ],
   "metadata": {}
  },
  {
   "cell_type": "code",
   "execution_count": 10,
   "source": [
    "# define model structure\r\n",
    "model = keras.Sequential([\r\n",
    "keras.layers.Dense(64, activation = \"relu\", kernel_regularizer=regularizers.l1_l2(l1=1e-5, l2=1e-4), bias_regularizer=regularizers.l2(1e-4)),\r\n",
    "keras.layers.Dropout(.1),\r\n",
    "keras.layers.Dense(1, activation = \"sigmoid\")\r\n",
    "])\r\n",
    "\r\n",
    "# define optimizer\r\n",
    "opt = keras.optimizers.Adam(learning_rate=0.001)\r\n",
    "\r\n",
    "# train the model\r\n",
    "model.compile(optimizer = opt, loss=tf.keras.losses.binary_crossentropy, metrics=[\"accuracy\"])\r\n",
    "model.fit(X_train, y_train, epochs = 100, validation_data=(X_val, y_val))"
   ],
   "outputs": [
    {
     "output_type": "stream",
     "name": "stdout",
     "text": [
      "Epoch 1/100\n",
      "1/1 [==============================] - 0s 499ms/step - loss: 1.4228 - accuracy: 0.3333 - val_loss: 0.6679 - val_accuracy: 0.8000\n",
      "Epoch 2/100\n",
      "1/1 [==============================] - 0s 26ms/step - loss: 1.5792 - accuracy: 0.3333 - val_loss: 0.6554 - val_accuracy: 0.8000\n",
      "Epoch 3/100\n",
      "1/1 [==============================] - 0s 35ms/step - loss: 1.3985 - accuracy: 0.3333 - val_loss: 0.6448 - val_accuracy: 0.8000\n",
      "Epoch 4/100\n",
      "1/1 [==============================] - 0s 30ms/step - loss: 1.3896 - accuracy: 0.3333 - val_loss: 0.6369 - val_accuracy: 0.8000\n",
      "Epoch 5/100\n",
      "1/1 [==============================] - 0s 29ms/step - loss: 1.3649 - accuracy: 0.4000 - val_loss: 0.6320 - val_accuracy: 0.8000\n",
      "Epoch 6/100\n",
      "1/1 [==============================] - 0s 31ms/step - loss: 1.3256 - accuracy: 0.3333 - val_loss: 0.6297 - val_accuracy: 0.8000\n",
      "Epoch 7/100\n",
      "1/1 [==============================] - 0s 32ms/step - loss: 1.1289 - accuracy: 0.4000 - val_loss: 0.6300 - val_accuracy: 0.8000\n",
      "Epoch 8/100\n",
      "1/1 [==============================] - 0s 32ms/step - loss: 1.0085 - accuracy: 0.4000 - val_loss: 0.6331 - val_accuracy: 0.8000\n",
      "Epoch 9/100\n",
      "1/1 [==============================] - 0s 30ms/step - loss: 1.1945 - accuracy: 0.2667 - val_loss: 0.6388 - val_accuracy: 0.8000\n",
      "Epoch 10/100\n",
      "1/1 [==============================] - 0s 30ms/step - loss: 1.0143 - accuracy: 0.4667 - val_loss: 0.6459 - val_accuracy: 0.8000\n",
      "Epoch 11/100\n",
      "1/1 [==============================] - 0s 31ms/step - loss: 0.8982 - accuracy: 0.4000 - val_loss: 0.6553 - val_accuracy: 0.8000\n",
      "Epoch 12/100\n",
      "1/1 [==============================] - 0s 31ms/step - loss: 1.0129 - accuracy: 0.4667 - val_loss: 0.6668 - val_accuracy: 0.6000\n",
      "Epoch 13/100\n",
      "1/1 [==============================] - 0s 31ms/step - loss: 0.9273 - accuracy: 0.4667 - val_loss: 0.6805 - val_accuracy: 0.6000\n",
      "Epoch 14/100\n",
      "1/1 [==============================] - 0s 32ms/step - loss: 0.9699 - accuracy: 0.3333 - val_loss: 0.6962 - val_accuracy: 0.6000\n",
      "Epoch 15/100\n",
      "1/1 [==============================] - 0s 33ms/step - loss: 0.8279 - accuracy: 0.6667 - val_loss: 0.7128 - val_accuracy: 0.4000\n",
      "Epoch 16/100\n",
      "1/1 [==============================] - 0s 36ms/step - loss: 0.7864 - accuracy: 0.6000 - val_loss: 0.7302 - val_accuracy: 0.4000\n",
      "Epoch 17/100\n",
      "1/1 [==============================] - 0s 31ms/step - loss: 0.8838 - accuracy: 0.4667 - val_loss: 0.7478 - val_accuracy: 0.2000\n",
      "Epoch 18/100\n",
      "1/1 [==============================] - 0s 31ms/step - loss: 0.7721 - accuracy: 0.5333 - val_loss: 0.7649 - val_accuracy: 0.2000\n",
      "Epoch 19/100\n",
      "1/1 [==============================] - 0s 37ms/step - loss: 0.6886 - accuracy: 0.4667 - val_loss: 0.7818 - val_accuracy: 0.2000\n",
      "Epoch 20/100\n",
      "1/1 [==============================] - 0s 33ms/step - loss: 0.7729 - accuracy: 0.4667 - val_loss: 0.7985 - val_accuracy: 0.2000\n",
      "Epoch 21/100\n",
      "1/1 [==============================] - 0s 32ms/step - loss: 0.7481 - accuracy: 0.6000 - val_loss: 0.8135 - val_accuracy: 0.2000\n",
      "Epoch 22/100\n",
      "1/1 [==============================] - 0s 30ms/step - loss: 0.8132 - accuracy: 0.4667 - val_loss: 0.8278 - val_accuracy: 0.2000\n",
      "Epoch 23/100\n",
      "1/1 [==============================] - 0s 31ms/step - loss: 0.6500 - accuracy: 0.6667 - val_loss: 0.8412 - val_accuracy: 0.2000\n",
      "Epoch 24/100\n",
      "1/1 [==============================] - 0s 30ms/step - loss: 0.6595 - accuracy: 0.7333 - val_loss: 0.8522 - val_accuracy: 0.2000\n",
      "Epoch 25/100\n",
      "1/1 [==============================] - 0s 32ms/step - loss: 0.6791 - accuracy: 0.6000 - val_loss: 0.8622 - val_accuracy: 0.2000\n",
      "Epoch 26/100\n",
      "1/1 [==============================] - 0s 30ms/step - loss: 0.6596 - accuracy: 0.7333 - val_loss: 0.8695 - val_accuracy: 0.2000\n",
      "Epoch 27/100\n",
      "1/1 [==============================] - 0s 32ms/step - loss: 0.6694 - accuracy: 0.7333 - val_loss: 0.8752 - val_accuracy: 0.2000\n",
      "Epoch 28/100\n",
      "1/1 [==============================] - 0s 30ms/step - loss: 0.5677 - accuracy: 0.7333 - val_loss: 0.8790 - val_accuracy: 0.2000\n",
      "Epoch 29/100\n",
      "1/1 [==============================] - 0s 33ms/step - loss: 0.5292 - accuracy: 0.8000 - val_loss: 0.8794 - val_accuracy: 0.2000\n",
      "Epoch 30/100\n",
      "1/1 [==============================] - 0s 36ms/step - loss: 0.5718 - accuracy: 0.7333 - val_loss: 0.8783 - val_accuracy: 0.2000\n",
      "Epoch 31/100\n",
      "1/1 [==============================] - 0s 32ms/step - loss: 0.4243 - accuracy: 0.8667 - val_loss: 0.8774 - val_accuracy: 0.2000\n",
      "Epoch 32/100\n",
      "1/1 [==============================] - 0s 32ms/step - loss: 0.5554 - accuracy: 0.7333 - val_loss: 0.8751 - val_accuracy: 0.2000\n",
      "Epoch 33/100\n",
      "1/1 [==============================] - 0s 33ms/step - loss: 0.4623 - accuracy: 0.7333 - val_loss: 0.8715 - val_accuracy: 0.2000\n",
      "Epoch 34/100\n",
      "1/1 [==============================] - 0s 59ms/step - loss: 0.5023 - accuracy: 0.8000 - val_loss: 0.8661 - val_accuracy: 0.2000\n",
      "Epoch 35/100\n",
      "1/1 [==============================] - 0s 32ms/step - loss: 0.5853 - accuracy: 0.7333 - val_loss: 0.8583 - val_accuracy: 0.2000\n",
      "Epoch 36/100\n",
      "1/1 [==============================] - 0s 30ms/step - loss: 0.4502 - accuracy: 0.8000 - val_loss: 0.8493 - val_accuracy: 0.2000\n",
      "Epoch 37/100\n",
      "1/1 [==============================] - 0s 29ms/step - loss: 0.5015 - accuracy: 0.8667 - val_loss: 0.8401 - val_accuracy: 0.2000\n",
      "Epoch 38/100\n",
      "1/1 [==============================] - 0s 31ms/step - loss: 0.6089 - accuracy: 0.7333 - val_loss: 0.8297 - val_accuracy: 0.2000\n",
      "Epoch 39/100\n",
      "1/1 [==============================] - 0s 31ms/step - loss: 0.4481 - accuracy: 0.8667 - val_loss: 0.8195 - val_accuracy: 0.2000\n",
      "Epoch 40/100\n",
      "1/1 [==============================] - 0s 29ms/step - loss: 0.5134 - accuracy: 0.8667 - val_loss: 0.8082 - val_accuracy: 0.2000\n",
      "Epoch 41/100\n",
      "1/1 [==============================] - 0s 32ms/step - loss: 0.4636 - accuracy: 0.8000 - val_loss: 0.7971 - val_accuracy: 0.2000\n",
      "Epoch 42/100\n",
      "1/1 [==============================] - 0s 31ms/step - loss: 0.5048 - accuracy: 0.8000 - val_loss: 0.7853 - val_accuracy: 0.2000\n",
      "Epoch 43/100\n",
      "1/1 [==============================] - 0s 28ms/step - loss: 0.3726 - accuracy: 0.9333 - val_loss: 0.7738 - val_accuracy: 0.2000\n",
      "Epoch 44/100\n",
      "1/1 [==============================] - 0s 31ms/step - loss: 0.4371 - accuracy: 0.8667 - val_loss: 0.7619 - val_accuracy: 0.2000\n",
      "Epoch 45/100\n",
      "1/1 [==============================] - 0s 32ms/step - loss: 0.4199 - accuracy: 0.8667 - val_loss: 0.7502 - val_accuracy: 0.2000\n",
      "Epoch 46/100\n",
      "1/1 [==============================] - 0s 33ms/step - loss: 0.3118 - accuracy: 1.0000 - val_loss: 0.7380 - val_accuracy: 0.2000\n",
      "Epoch 47/100\n",
      "1/1 [==============================] - 0s 32ms/step - loss: 0.4443 - accuracy: 0.7333 - val_loss: 0.7245 - val_accuracy: 0.2000\n",
      "Epoch 48/100\n",
      "1/1 [==============================] - 0s 31ms/step - loss: 0.3908 - accuracy: 0.8667 - val_loss: 0.7115 - val_accuracy: 0.4000\n",
      "Epoch 49/100\n",
      "1/1 [==============================] - 0s 35ms/step - loss: 0.3537 - accuracy: 0.9333 - val_loss: 0.6994 - val_accuracy: 0.4000\n",
      "Epoch 50/100\n",
      "1/1 [==============================] - 0s 34ms/step - loss: 0.3845 - accuracy: 0.8667 - val_loss: 0.6871 - val_accuracy: 0.4000\n",
      "Epoch 51/100\n",
      "1/1 [==============================] - 0s 27ms/step - loss: 0.3486 - accuracy: 0.9333 - val_loss: 0.6751 - val_accuracy: 0.4000\n",
      "Epoch 52/100\n",
      "1/1 [==============================] - 0s 27ms/step - loss: 0.3149 - accuracy: 1.0000 - val_loss: 0.6639 - val_accuracy: 0.4000\n",
      "Epoch 53/100\n",
      "1/1 [==============================] - 0s 29ms/step - loss: 0.3364 - accuracy: 0.8667 - val_loss: 0.6531 - val_accuracy: 0.4000\n",
      "Epoch 54/100\n",
      "1/1 [==============================] - 0s 32ms/step - loss: 0.2670 - accuracy: 1.0000 - val_loss: 0.6431 - val_accuracy: 0.4000\n",
      "Epoch 55/100\n",
      "1/1 [==============================] - 0s 30ms/step - loss: 0.3342 - accuracy: 0.9333 - val_loss: 0.6342 - val_accuracy: 0.6000\n",
      "Epoch 56/100\n",
      "1/1 [==============================] - 0s 30ms/step - loss: 0.2499 - accuracy: 1.0000 - val_loss: 0.6263 - val_accuracy: 0.6000\n",
      "Epoch 57/100\n",
      "1/1 [==============================] - 0s 38ms/step - loss: 0.3431 - accuracy: 0.9333 - val_loss: 0.6188 - val_accuracy: 0.6000\n",
      "Epoch 58/100\n",
      "1/1 [==============================] - 0s 29ms/step - loss: 0.3354 - accuracy: 0.9333 - val_loss: 0.6114 - val_accuracy: 0.6000\n",
      "Epoch 59/100\n",
      "1/1 [==============================] - 0s 31ms/step - loss: 0.3028 - accuracy: 1.0000 - val_loss: 0.6050 - val_accuracy: 0.6000\n",
      "Epoch 60/100\n",
      "1/1 [==============================] - 0s 28ms/step - loss: 0.3799 - accuracy: 0.8667 - val_loss: 0.5985 - val_accuracy: 0.6000\n",
      "Epoch 61/100\n",
      "1/1 [==============================] - 0s 30ms/step - loss: 0.3330 - accuracy: 0.8667 - val_loss: 0.5929 - val_accuracy: 0.6000\n",
      "Epoch 62/100\n",
      "1/1 [==============================] - 0s 31ms/step - loss: 0.4123 - accuracy: 0.8000 - val_loss: 0.5872 - val_accuracy: 0.6000\n",
      "Epoch 63/100\n",
      "1/1 [==============================] - 0s 28ms/step - loss: 0.2797 - accuracy: 0.9333 - val_loss: 0.5806 - val_accuracy: 0.6000\n",
      "Epoch 64/100\n",
      "1/1 [==============================] - 0s 32ms/step - loss: 0.3151 - accuracy: 0.8667 - val_loss: 0.5733 - val_accuracy: 0.6000\n",
      "Epoch 65/100\n",
      "1/1 [==============================] - 0s 32ms/step - loss: 0.2470 - accuracy: 1.0000 - val_loss: 0.5670 - val_accuracy: 0.6000\n",
      "Epoch 66/100\n",
      "1/1 [==============================] - 0s 30ms/step - loss: 0.3404 - accuracy: 0.8667 - val_loss: 0.5611 - val_accuracy: 0.6000\n",
      "Epoch 67/100\n",
      "1/1 [==============================] - 0s 31ms/step - loss: 0.3013 - accuracy: 0.9333 - val_loss: 0.5552 - val_accuracy: 0.6000\n",
      "Epoch 68/100\n",
      "1/1 [==============================] - 0s 33ms/step - loss: 0.2868 - accuracy: 0.9333 - val_loss: 0.5491 - val_accuracy: 0.6000\n",
      "Epoch 69/100\n",
      "1/1 [==============================] - 0s 28ms/step - loss: 0.2833 - accuracy: 0.8667 - val_loss: 0.5433 - val_accuracy: 0.6000\n",
      "Epoch 70/100\n",
      "1/1 [==============================] - 0s 32ms/step - loss: 0.2778 - accuracy: 0.8667 - val_loss: 0.5378 - val_accuracy: 0.6000\n",
      "Epoch 71/100\n",
      "1/1 [==============================] - 0s 31ms/step - loss: 0.2889 - accuracy: 0.9333 - val_loss: 0.5335 - val_accuracy: 0.6000\n",
      "Epoch 72/100\n",
      "1/1 [==============================] - 0s 29ms/step - loss: 0.2676 - accuracy: 0.9333 - val_loss: 0.5291 - val_accuracy: 0.6000\n",
      "Epoch 73/100\n",
      "1/1 [==============================] - 0s 31ms/step - loss: 0.2864 - accuracy: 0.9333 - val_loss: 0.5261 - val_accuracy: 0.6000\n",
      "Epoch 74/100\n",
      "1/1 [==============================] - 0s 31ms/step - loss: 0.2853 - accuracy: 0.8667 - val_loss: 0.5237 - val_accuracy: 0.6000\n",
      "Epoch 75/100\n",
      "1/1 [==============================] - 0s 29ms/step - loss: 0.2330 - accuracy: 0.9333 - val_loss: 0.5220 - val_accuracy: 0.6000\n",
      "Epoch 76/100\n",
      "1/1 [==============================] - 0s 31ms/step - loss: 0.3135 - accuracy: 0.8667 - val_loss: 0.5197 - val_accuracy: 0.6000\n",
      "Epoch 77/100\n",
      "1/1 [==============================] - 0s 31ms/step - loss: 0.2759 - accuracy: 0.9333 - val_loss: 0.5176 - val_accuracy: 0.6000\n",
      "Epoch 78/100\n",
      "1/1 [==============================] - 0s 30ms/step - loss: 0.2609 - accuracy: 0.9333 - val_loss: 0.5152 - val_accuracy: 0.6000\n",
      "Epoch 79/100\n",
      "1/1 [==============================] - 0s 30ms/step - loss: 0.2907 - accuracy: 0.8667 - val_loss: 0.5128 - val_accuracy: 0.6000\n",
      "Epoch 80/100\n",
      "1/1 [==============================] - 0s 30ms/step - loss: 0.2663 - accuracy: 0.9333 - val_loss: 0.5093 - val_accuracy: 0.8000\n",
      "Epoch 81/100\n",
      "1/1 [==============================] - 0s 31ms/step - loss: 0.2507 - accuracy: 0.9333 - val_loss: 0.5058 - val_accuracy: 0.8000\n",
      "Epoch 82/100\n",
      "1/1 [==============================] - 0s 33ms/step - loss: 0.2040 - accuracy: 0.9333 - val_loss: 0.5022 - val_accuracy: 0.8000\n",
      "Epoch 83/100\n",
      "1/1 [==============================] - 0s 52ms/step - loss: 0.1919 - accuracy: 1.0000 - val_loss: 0.4989 - val_accuracy: 0.8000\n",
      "Epoch 84/100\n",
      "1/1 [==============================] - 0s 29ms/step - loss: 0.2551 - accuracy: 0.9333 - val_loss: 0.4966 - val_accuracy: 0.8000\n",
      "Epoch 85/100\n",
      "1/1 [==============================] - 0s 36ms/step - loss: 0.1865 - accuracy: 0.9333 - val_loss: 0.4952 - val_accuracy: 0.8000\n",
      "Epoch 86/100\n",
      "1/1 [==============================] - 0s 32ms/step - loss: 0.2684 - accuracy: 0.8667 - val_loss: 0.4935 - val_accuracy: 0.8000\n",
      "Epoch 87/100\n",
      "1/1 [==============================] - 0s 31ms/step - loss: 0.1979 - accuracy: 1.0000 - val_loss: 0.4913 - val_accuracy: 0.8000\n",
      "Epoch 88/100\n",
      "1/1 [==============================] - 0s 30ms/step - loss: 0.1626 - accuracy: 1.0000 - val_loss: 0.4893 - val_accuracy: 0.8000\n",
      "Epoch 89/100\n",
      "1/1 [==============================] - 0s 30ms/step - loss: 0.2770 - accuracy: 0.9333 - val_loss: 0.4857 - val_accuracy: 0.8000\n",
      "Epoch 90/100\n",
      "1/1 [==============================] - 0s 34ms/step - loss: 0.2358 - accuracy: 0.9333 - val_loss: 0.4822 - val_accuracy: 0.8000\n",
      "Epoch 91/100\n",
      "1/1 [==============================] - 0s 31ms/step - loss: 0.1771 - accuracy: 1.0000 - val_loss: 0.4793 - val_accuracy: 0.8000\n",
      "Epoch 92/100\n",
      "1/1 [==============================] - 0s 31ms/step - loss: 0.2370 - accuracy: 0.8667 - val_loss: 0.4760 - val_accuracy: 0.8000\n",
      "Epoch 93/100\n",
      "1/1 [==============================] - 0s 32ms/step - loss: 0.1892 - accuracy: 0.9333 - val_loss: 0.4730 - val_accuracy: 0.8000\n",
      "Epoch 94/100\n",
      "1/1 [==============================] - 0s 31ms/step - loss: 0.1801 - accuracy: 1.0000 - val_loss: 0.4705 - val_accuracy: 0.8000\n",
      "Epoch 95/100\n",
      "1/1 [==============================] - 0s 33ms/step - loss: 0.2139 - accuracy: 0.9333 - val_loss: 0.4681 - val_accuracy: 0.8000\n",
      "Epoch 96/100\n",
      "1/1 [==============================] - 0s 31ms/step - loss: 0.2001 - accuracy: 1.0000 - val_loss: 0.4655 - val_accuracy: 0.8000\n",
      "Epoch 97/100\n",
      "1/1 [==============================] - 0s 32ms/step - loss: 0.1860 - accuracy: 0.9333 - val_loss: 0.4633 - val_accuracy: 0.8000\n",
      "Epoch 98/100\n",
      "1/1 [==============================] - 0s 35ms/step - loss: 0.2397 - accuracy: 0.9333 - val_loss: 0.4618 - val_accuracy: 0.8000\n",
      "Epoch 99/100\n",
      "1/1 [==============================] - 0s 32ms/step - loss: 0.1689 - accuracy: 1.0000 - val_loss: 0.4603 - val_accuracy: 0.8000\n",
      "Epoch 100/100\n",
      "1/1 [==============================] - 0s 32ms/step - loss: 0.2136 - accuracy: 0.9333 - val_loss: 0.4603 - val_accuracy: 0.8000\n"
     ]
    },
    {
     "output_type": "execute_result",
     "data": {
      "text/plain": [
       "<tensorflow.python.keras.callbacks.History at 0x19f8d74eb00>"
      ]
     },
     "metadata": {},
     "execution_count": 10
    }
   ],
   "metadata": {}
  },
  {
   "cell_type": "code",
   "execution_count": 11,
   "source": [
    "# evaluate the model\r\n",
    "test_loss, test_acc = model.evaluate(X_val, y_val)\r\n",
    "print(test_loss, test_acc)"
   ],
   "outputs": [
    {
     "output_type": "stream",
     "name": "stdout",
     "text": [
      "1/1 [==============================] - 0s 27ms/step - loss: 0.4603 - accuracy: 0.8000\n",
      "0.46025171875953674 0.800000011920929\n"
     ]
    }
   ],
   "metadata": {}
  },
  {
   "cell_type": "code",
   "execution_count": 12,
   "source": [
    "# predict on new data\r\n",
    "prediction = model.predict([[0, 1, 3, 9, 5]])\r\n",
    "print(prediction)"
   ],
   "outputs": [
    {
     "output_type": "stream",
     "name": "stdout",
     "text": [
      "[[0.9684326]]\n"
     ]
    }
   ],
   "metadata": {}
  },
  {
   "cell_type": "markdown",
   "source": [
    "What were doing next is basically making predictions for different input data with the model we just trained. Were going to look at one input and manipulate each of the features values seperatly and then predict the output again. The error is then calculated between the output and the real output which will tell us about how impactfull that change of value of that specific feature was. Were going to do that for all of the input data."
   ],
   "metadata": {}
  },
  {
   "cell_type": "code",
   "execution_count": 13,
   "source": [
    "error_values = []\r\n",
    "mse = tf.keras.losses.MeanSquaredError()\r\n",
    "\r\n",
    "# for each feature\r\n",
    "for c in range(features):\r\n",
    "\r\n",
    "    error_temp, value_temp = [], []\r\n",
    "\r\n",
    "    # for each data list\r\n",
    "    for counter1, a in enumerate(X):\r\n",
    "\r\n",
    "        # remove currently inspecting element\r\n",
    "        X_temp = X.copy()\r\n",
    "        del X_temp[counter1]\r\n",
    "\r\n",
    "        for counter2, b in enumerate(X_temp):\r\n",
    "\r\n",
    "            # change value for feature\r\n",
    "            a[c] = b[c]\r\n",
    "\r\n",
    "            # make prediciton with changed data\r\n",
    "            pred = model.predict([a])\r\n",
    "\r\n",
    "            # calculate error\r\n",
    "            error = mse(y[counter1], pred).numpy()\r\n",
    "\r\n",
    "            # append to lists\r\n",
    "            error_temp.append(error)\r\n",
    "            value_temp.append(b[c])\r\n",
    "\r\n",
    "    error_values.append([error_temp, value_temp, c])\r\n",
    "\r\n",
    "#print(error_values)"
   ],
   "outputs": [],
   "metadata": {}
  },
  {
   "cell_type": "code",
   "execution_count": 14,
   "source": [
    "for i in range(features):\r\n",
    "    plt.plot(error_values[i][1], error_values[i][0], 'ro')\r\n",
    "    plt.axis([0, 10, 0, 1])\r\n",
    "    plt.xlabel(f'Value for feature {i+1}')\r\n",
    "    plt.ylabel(f'Error for the values of feature {i+1}')\r\n",
    "    plt.show()\r\n",
    "\r\n",
    "    sum = 0\r\n",
    "    for x in error_values[i][0]: sum += x\r\n",
    "    print(f'Total Error: {sum}')"
   ],
   "outputs": [
    {
     "output_type": "display_data",
     "data": {
      "image/png": "[encoded data removed]",
      "text/plain": [
       "<Figure size 432x288 with 1 Axes>"
      ]
     },
     "metadata": {
      "needs_background": "light"
     }
    },
    {
     "output_type": "stream",
     "name": "stdout",
     "text": [
      "Total Error: 36.04023447003419\n"
     ]
    },
    {
     "output_type": "display_data",
     "data": {
      "image/png": "[encoded data removed]",
      "text/plain": [
       "<Figure size 432x288 with 1 Axes>"
      ]
     },
     "metadata": {
      "needs_background": "light"
     }
    },
    {
     "output_type": "stream",
     "name": "stdout",
     "text": [
      "Total Error: 34.94687994214473\n"
     ]
    },
    {
     "output_type": "display_data",
     "data": {
      "image/png": "[encoded data removed]",
      "text/plain": [
       "<Figure size 432x288 with 1 Axes>"
      ]
     },
     "metadata": {
      "needs_background": "light"
     }
    },
    {
     "output_type": "stream",
     "name": "stdout",
     "text": [
      "Total Error: 28.920737188818748\n"
     ]
    },
    {
     "output_type": "display_data",
     "data": {
      "image/png": "[encoded data removed]",
      "text/plain": [
       "<Figure size 432x288 with 1 Axes>"
      ]
     },
     "metadata": {
      "needs_background": "light"
     }
    },
    {
     "output_type": "stream",
     "name": "stdout",
     "text": [
      "Total Error: 109.48414365737699\n"
     ]
    },
    {
     "output_type": "display_data",
     "data": {
      "image/png": "[encoded data removed]",
      "text/plain": [
       "<Figure size 432x288 with 1 Axes>"
      ]
     },
     "metadata": {
      "needs_background": "light"
     }
    },
    {
     "output_type": "stream",
     "name": "stdout",
     "text": [
      "Total Error: 95.08327195048332\n"
     ]
    }
   ],
   "metadata": {}
  },
  {
   "cell_type": "markdown",
   "source": [
    "As you can see, the total error of Feature 4 is the greatest, which means it probably has the most impact on the result of the networks prediction. The graph also shows that.\r\n",
    "\r\n"
   ],
   "metadata": {}
  }
 ],
 "metadata": {
  "orig_nbformat": 4,
  "language_info": {
   "name": "python",
   "version": "3.7.0",
   "mimetype": "text/x-python",
   "codemirror_mode": {
    "name": "ipython",
    "version": 3
   },
   "pygments_lexer": "ipython3",
   "nbconvert_exporter": "python",
   "file_extension": ".py"
  },
  "kernelspec": {
   "name": "python3",
   "display_name": "Python 3.7.0 64-bit ('tensorflow_venv': venv)"
  },
  "interpreter": {
   "hash": "6134ba84c7e3c51f9b6ccf5f85c21895cc1f880f74b967a525136bd53e5e87f2"
  }
 },
 "nbformat": 4,
 "nbformat_minor": 2
}